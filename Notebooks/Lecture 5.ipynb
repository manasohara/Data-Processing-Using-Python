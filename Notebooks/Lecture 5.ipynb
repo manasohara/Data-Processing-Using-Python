{
 "cells": [
  {
   "cell_type": "code",
   "execution_count": 3,
   "metadata": {},
   "outputs": [
    {
     "name": "stdout",
     "output_type": "stream",
     "text": [
      "eno, ename, desig, salary\n",
      "\n",
      "101, Manas Ohara, Data Scientist, 60000\n",
      "\n",
      "102, Kashmira Shah, Developer, 90000\n",
      "\n",
      "103, Lana Rhodes, Model, 100000\n"
     ]
    }
   ],
   "source": [
    "import pandas as pd\n",
    "rf=pd.read_csv(\"emp.csv\")\n",
    "f=open(\"emp.csv\",\"r\")\n",
    "for i in f:\n",
    "    print(i)"
   ]
  },
  {
   "cell_type": "markdown",
   "metadata": {},
   "source": [
    "## reading data frame"
   ]
  },
  {
   "cell_type": "code",
   "execution_count": 4,
   "metadata": {},
   "outputs": [
    {
     "name": "stdout",
     "output_type": "stream",
     "text": [
      "       Name Class\n",
      "0     Manas    TY\n",
      "1  Kashmira    FY\n",
      "2    Chetan    SY\n"
     ]
    }
   ],
   "source": [
    "import pandas as pd\n",
    "stud ={\n",
    "    \"Name\":[\"Manas\",\"Kashmira\",\"Chetan\"],\n",
    "    \"Class\":[\"TY\",\"FY\",\"SY\"]\n",
    "}\n",
    "r=pd.DataFrame(stud)\n",
    "print(r)"
   ]
  },
  {
   "cell_type": "code",
   "execution_count": null,
   "metadata": {},
   "outputs": [],
   "source": []
  }
 ],
 "metadata": {
  "kernelspec": {
   "display_name": "Python 3",
   "language": "python",
   "name": "python3"
  },
  "language_info": {
   "codemirror_mode": {
    "name": "ipython",
    "version": 3
   },
   "file_extension": ".py",
   "mimetype": "text/x-python",
   "name": "python",
   "nbconvert_exporter": "python",
   "pygments_lexer": "ipython3",
   "version": "3.8.3"
  }
 },
 "nbformat": 4,
 "nbformat_minor": 4
}
