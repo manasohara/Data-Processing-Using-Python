{
 "cells": [
  {
   "cell_type": "markdown",
   "metadata": {},
   "source": [
    "## Json Handling- \n",
    "### Javascript Object Notation"
   ]
  },
  {
   "cell_type": "markdown",
   "metadata": {},
   "source": [
    "## priting whole data of dictinary"
   ]
  },
  {
   "cell_type": "code",
   "execution_count": 7,
   "metadata": {},
   "outputs": [
    {
     "name": "stdout",
     "output_type": "stream",
     "text": [
      "{'sname': 'Manas', 'age': '20', 'city': 'Pune'}\n"
     ]
    }
   ],
   "source": [
    "import json\n",
    "x='{\"sname\":\"Manas\",\"age\":\"20\",\"city\":\"Pune\"}'\n",
    "y=json.loads(x)\n",
    "print(y)"
   ]
  },
  {
   "cell_type": "markdown",
   "metadata": {},
   "source": [
    "## printing particular data"
   ]
  },
  {
   "cell_type": "code",
   "execution_count": 11,
   "metadata": {},
   "outputs": [
    {
     "name": "stdout",
     "output_type": "stream",
     "text": [
      "Age : 20\n",
      "Name : Manas\n",
      "City : Pune\n"
     ]
    }
   ],
   "source": [
    "import json\n",
    "x='{\"sname\":\"Manas\",\"age\":\"20\",\"city\":\"Pune\"}'\n",
    "y=json.loads(x)\n",
    "print(\"Age :\",y[\"age\"])\n",
    "print(\"Name :\",y[\"sname\"])\n",
    "print(\"City :\",y[\"city\"])"
   ]
  },
  {
   "cell_type": "markdown",
   "metadata": {},
   "source": [
    "## Convert fro python object to Json Object"
   ]
  },
  {
   "cell_type": "code",
   "execution_count": 14,
   "metadata": {},
   "outputs": [
    {
     "name": "stdout",
     "output_type": "stream",
     "text": [
      "{\"sname\": \"Manas\", \"age\": \"20\", \"city\": \"Pune\"}\n"
     ]
    }
   ],
   "source": [
    "import json\n",
    "x={\"sname\":\"Manas\",\"age\":\"20\",\"city\":\"Pune\"} ## '' dila tar to jSON data hot hota mhanun single quotes nahi deycha\n",
    "y=json.dumps(x)\n",
    "print(y)"
   ]
  },
  {
   "cell_type": "markdown",
   "metadata": {},
   "source": [
    "### writing data into jSon File"
   ]
  },
  {
   "cell_type": "code",
   "execution_count": 15,
   "metadata": {},
   "outputs": [],
   "source": [
    "import json\n",
    "student={\n",
    "    \"Name \": \"Manas\",\n",
    "    \"Roll No \":\"452\",\n",
    "    \"Grade \":\"A\",\n",
    "    \"Age\":\"20\",\n",
    "    \"Subject\":[\"JAVA\",\"PHP\",\"PYTHON\"]\n",
    "}\n",
    "with open(\"data.json\",\"w\") as write_file:\n",
    "    json.dump(student,write_file)"
   ]
  },
  {
   "cell_type": "markdown",
   "metadata": {},
   "source": [
    "### Reading data from jSON file"
   ]
  },
  {
   "cell_type": "code",
   "execution_count": 17,
   "metadata": {},
   "outputs": [
    {
     "name": "stdout",
     "output_type": "stream",
     "text": [
      "{'Name ': 'Manas', 'Roll No ': '452', 'Grade ': 'A', 'Age': '20', 'Subject': ['JAVA', 'PHP', 'PYTHON']}\n"
     ]
    }
   ],
   "source": [
    "import json\n",
    "with open(\"data.json\") as f:\n",
    "    dt=json.load(f)\n",
    "print(dt)"
   ]
  },
  {
   "cell_type": "code",
   "execution_count": 24,
   "metadata": {},
   "outputs": [],
   "source": [
    "## Assignment Code"
   ]
  },
  {
   "cell_type": "code",
   "execution_count": 20,
   "metadata": {},
   "outputs": [
    {
     "name": "stdout",
     "output_type": "stream",
     "text": [
      "{\"empid\": \"101\", \"ename\": \"Nikita\", \"Deptname\": \"Accounts\"}\n"
     ]
    }
   ],
   "source": [
    "import json\n",
    "Employee={\"empid\":\"101\",\"ename\":\"Nikita\",\"Deptname\":\"Accounts\"}\n",
    "with open(\"data1.json\",\"w\") as wfile:\n",
    "    json.dump(Employee,wfile)\n",
    "f=open(\"data1.json\",\"r\")\n",
    "for i in f:\n",
    "    print(i)"
   ]
  },
  {
   "cell_type": "code",
   "execution_count": 21,
   "metadata": {},
   "outputs": [
    {
     "name": "stdout",
     "output_type": "stream",
     "text": [
      "{'empid': 101, 'ename': 'Nikita', 'Deptname': 'Accounts'}\n"
     ]
    }
   ],
   "source": [
    "import json\n",
    "employee = {\"empid\":101, \"ename\":\"Nikita\", \"Deptname\":\"Accounts\"}\n",
    "with open(\"empjson.json\",\"w\") as write_file:\n",
    "    json.dump(employee,write_file)\n",
    "with open(\"empjson.json\") as f:\n",
    "    dt =json.load(f)\n",
    "    print(dt)"
   ]
  },
  {
   "cell_type": "code",
   "execution_count": 22,
   "metadata": {},
   "outputs": [
    {
     "name": "stdout",
     "output_type": "stream",
     "text": [
      "{'empid': 101, 'ename': 'Nikita', 'Deptname': 'Accounts'}\n",
      "Nikita\n"
     ]
    }
   ],
   "source": [
    "# Stud={“sno”:102,”sname”:”Mita”,”language”:[“C++”,”Python”]}\n",
    "# Initialize the json object and convert to python, then display\n",
    "import json\n",
    "Employee = '{\"empid\":101, \"ename\":\"Nikita\", \"Deptname\":\"Accounts\"}'\n",
    "y = json.loads(Employee)\n",
    "print(y)\n",
    "print(y[\"ename\"])"
   ]
  },
  {
   "cell_type": "code",
   "execution_count": 23,
   "metadata": {},
   "outputs": [
    {
     "name": "stdout",
     "output_type": "stream",
     "text": [
      "{\"employee\": [{\"id\": \"01\", \"name\": \"Amit\", \"department\": \"Sales\"}, {\"id\": \"04\", \"name\": \"sunil\", \"depatment\": \"HR\"}]}\n"
     ]
    }
   ],
   "source": [
    "import json\n",
    "emp={\n",
    "\"employee\": [\n",
    "      {\n",
    "         \"id\": \"01\",\n",
    "         \"name\": \"Amit\",\n",
    "         \"department\": \"Sales\"\n",
    "      },\n",
    "      {\n",
    "         \"id\": \"04\",\n",
    "         \"name\": \"sunil\",\n",
    "         \"depatment\": \"HR\"\n",
    "      }\n",
    "   ]\n",
    "}\n",
    "y=json.dumps(emp)\n",
    "print(y)"
   ]
  },
  {
   "cell_type": "markdown",
   "metadata": {},
   "source": [
    "### Python data aggregation"
   ]
  },
  {
   "cell_type": "code",
   "execution_count": 27,
   "metadata": {},
   "outputs": [
    {
     "name": "stdout",
     "output_type": "stream",
     "text": [
      "Longest calll :  20\n",
      "Total Rows in dataset : 14\n",
      "Toatl seconds on call :  144\n"
     ]
    }
   ],
   "source": [
    "import pandas as pd\n",
    "data=pd.read_csv(\"call.csv\")\n",
    "print(\"Longest calll : \",data[\"Duration\"].max())\n",
    "print(\"Total Rows in dataset :\",data[\"ToNumber\"].count())\n",
    "print(\"Toatl seconds on call : \",data[\"Duration\"].sum())"
   ]
  },
  {
   "cell_type": "code",
   "execution_count": null,
   "metadata": {},
   "outputs": [],
   "source": []
  }
 ],
 "metadata": {
  "kernelspec": {
   "display_name": "Python 3",
   "language": "python",
   "name": "python3"
  },
  "language_info": {
   "codemirror_mode": {
    "name": "ipython",
    "version": 3
   },
   "file_extension": ".py",
   "mimetype": "text/x-python",
   "name": "python",
   "nbconvert_exporter": "python",
   "pygments_lexer": "ipython3",
   "version": "3.8.3"
  }
 },
 "nbformat": 4,
 "nbformat_minor": 4
}
