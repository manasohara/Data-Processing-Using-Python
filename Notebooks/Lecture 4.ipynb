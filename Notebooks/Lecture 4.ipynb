{
 "cells": [
  {
   "cell_type": "markdown",
   "metadata": {},
   "source": [
    "## arbitct function"
   ]
  },
  {
   "cell_type": "markdown",
   "metadata": {},
   "source": [
    "\n",
    "def ct(*city):\n",
    "    for c in city:\n",
    "        print(c)\n",
    "ct(\"Mumbai\",\"Pune\")\n",
    "ct(\"Banglore\",\"Delhi\",\"Chennai\")"
   ]
  },
  {
   "cell_type": "code",
   "execution_count": 3,
   "metadata": {},
   "outputs": [
    {
     "name": "stdout",
     "output_type": "stream",
     "text": [
      "('Manas', 'Kashmira')\n"
     ]
    }
   ],
   "source": [
    "def a(*c):\n",
    "    print(c)\n",
    "a(\"Manas\",\"Kashmira\")"
   ]
  },
  {
   "cell_type": "markdown",
   "metadata": {},
   "source": [
    "## passing list as parameter"
   ]
  },
  {
   "cell_type": "code",
   "execution_count": 4,
   "metadata": {},
   "outputs": [
    {
     "name": "stdout",
     "output_type": "stream",
     "text": [
      "1\n",
      "2\n",
      "3\n",
      "4\n",
      "5\n"
     ]
    }
   ],
   "source": [
    "def printnum(num):\n",
    "    for i in num:\n",
    "        print(i)\n",
    "arr=[1,2,3,4,5]\n",
    "printnum(arr)"
   ]
  },
  {
   "cell_type": "markdown",
   "metadata": {},
   "source": [
    "## return in function"
   ]
  },
  {
   "cell_type": "code",
   "execution_count": 6,
   "metadata": {},
   "outputs": [
    {
     "data": {
      "text/plain": [
       "400"
      ]
     },
     "execution_count": 6,
     "metadata": {},
     "output_type": "execute_result"
    }
   ],
   "source": [
    "def square1(n):\n",
    "    return n*n\n",
    "a=square1(20)\n",
    "a"
   ]
  },
  {
   "cell_type": "markdown",
   "metadata": {},
   "source": [
    "## file handling"
   ]
  },
  {
   "cell_type": "code",
   "execution_count": 9,
   "metadata": {},
   "outputs": [
    {
     "name": "stdout",
     "output_type": "stream",
     "text": [
      "Hello manas!\n"
     ]
    }
   ],
   "source": [
    "f=open(\"data.txt\",\"r\")\n",
    "print(f.read())"
   ]
  },
  {
   "cell_type": "code",
   "execution_count": 10,
   "metadata": {},
   "outputs": [
    {
     "name": "stdout",
     "output_type": "stream",
     "text": [
      "Hello manas!\n"
     ]
    }
   ],
   "source": [
    "f=open(\"data.txt\",\"r\")\n",
    "for i in f:\n",
    "    print(i)"
   ]
  },
  {
   "cell_type": "markdown",
   "metadata": {},
   "source": [
    "## how to create file in python"
   ]
  },
  {
   "cell_type": "code",
   "execution_count": 14,
   "metadata": {},
   "outputs": [
    {
     "name": "stdout",
     "output_type": "stream",
     "text": [
      "Hello world\n"
     ]
    }
   ],
   "source": [
    "f=open(\"f1.txt\",\"w\")\n",
    "f.write(\"Hello world\")\n",
    "f=open(\"f1.txt\",\"r\")\n",
    "print(f.read())"
   ]
  },
  {
   "cell_type": "code",
   "execution_count": 15,
   "metadata": {},
   "outputs": [
    {
     "name": "stdout",
     "output_type": "stream",
     "text": [
      "Hello worldValar Moghulis\n"
     ]
    }
   ],
   "source": [
    "f=open(\"f1.txt\",\"a\")\n",
    "f.write(\"Valar Moghulis\")\n",
    "f=open(\"f1.txt\",\"r\")\n",
    "print(f.read())"
   ]
  },
  {
   "cell_type": "code",
   "execution_count": 16,
   "metadata": {},
   "outputs": [
    {
     "name": "stdout",
     "output_type": "stream",
     "text": [
      "Hello worldValar Moghulis\n",
      "Valar Dohaeris\n"
     ]
    }
   ],
   "source": [
    "f=open(\"f1.txt\",\"a\")\n",
    "f.write(\"\\nValar Dohaeris\")\n",
    "f=open(\"f1.txt\",\"r\")\n",
    "print(f.read())"
   ]
  },
  {
   "cell_type": "markdown",
   "metadata": {},
   "source": [
    "## sum of array"
   ]
  },
  {
   "cell_type": "code",
   "execution_count": 17,
   "metadata": {},
   "outputs": [
    {
     "name": "stdout",
     "output_type": "stream",
     "text": [
      "Enter num11\n",
      "Enter num22\n",
      "Enter num33\n",
      "Enter num44\n",
      "Enter num55\n"
     ]
    },
    {
     "data": {
      "text/plain": [
       "15"
      ]
     },
     "execution_count": 17,
     "metadata": {},
     "output_type": "execute_result"
    }
   ],
   "source": [
    "n1=int(input(\"Enter num1\"))\n",
    "n2=int(input(\"Enter num2\"))\n",
    "n3=int(input(\"Enter num3\"))\n",
    "n4=int(input(\"Enter num4\"))\n",
    "n5=int(input(\"Enter num5\"))\n",
    "arr=[n1,n2,n3,n4,n5]\n",
    "sum(arr)"
   ]
  },
  {
   "cell_type": "code",
   "execution_count": 15,
   "metadata": {},
   "outputs": [
    {
     "name": "stdout",
     "output_type": "stream",
     "text": [
      "How many numbers ?2\n",
      "Enter number 12\n",
      "Enter number 12\n",
      "[12, 12]\n"
     ]
    }
   ],
   "source": [
    "arr=[]\n",
    "n=int(input(\"How many numbers ?\"))\n",
    "for i in range (0,n):\n",
    "    a=int(input(\"Enter number \"))\n",
    "    arr.append(a)\n",
    "print(arr)"
   ]
  },
  {
   "cell_type": "markdown",
   "metadata": {},
   "source": [
    "### def arraysum(num):"
   ]
  },
  {
   "cell_type": "code",
   "execution_count": 16,
   "metadata": {},
   "outputs": [
    {
     "name": "stdout",
     "output_type": "stream",
     "text": [
      "10\n"
     ]
    }
   ],
   "source": [
    "def arraysum(num):\n",
    "    s=0\n",
    "    for i in num:\n",
    "        s=s+i\n",
    "    print(s)\n",
    "arr=[1,2,3,4]\n",
    "arraysum(arr)"
   ]
  },
  {
   "cell_type": "markdown",
   "metadata": {},
   "source": [
    "## reverese"
   ]
  },
  {
   "cell_type": "code",
   "execution_count": 17,
   "metadata": {},
   "outputs": [
    {
     "name": "stdout",
     "output_type": "stream",
     "text": [
      "Enter num1100\n",
      "Enter num290\n",
      "Enter num380\n",
      "Enter num470\n",
      "Enter num560\n",
      "60\n",
      "70\n",
      "80\n",
      "90\n",
      "100\n"
     ]
    },
    {
     "data": {
      "text/plain": [
       "[60, 70, 80, 90, 100]"
      ]
     },
     "execution_count": 17,
     "metadata": {},
     "output_type": "execute_result"
    }
   ],
   "source": [
    "n1=int(input(\"Enter num1\"))\n",
    "n2=int(input(\"Enter num2\"))\n",
    "n3=int(input(\"Enter num3\"))\n",
    "n4=int(input(\"Enter num4\"))\n",
    "n5=int(input(\"Enter num5\"))\n",
    "arr=[n1,n2,n3,n4,n5]\n",
    "for i in reversed(arr):\n",
    "    print(i)\n",
    "arr[::-1]"
   ]
  },
  {
   "cell_type": "markdown",
   "metadata": {},
   "source": [
    "## sort"
   ]
  },
  {
   "cell_type": "code",
   "execution_count": 24,
   "metadata": {},
   "outputs": [
    {
     "name": "stdout",
     "output_type": "stream",
     "text": [
      "Please enter the Total Number of List Elements: 4\n",
      "Please enter the Value of 1 Element : 12\n",
      "Please enter the Value of 2 Element : 90\n",
      "Please enter the Value of 3 Element : 89\n",
      "Please enter the Value of 4 Element : 90\n",
      "Element After Sorting List in Ascending Order is :  [12, 89, 90, 90]\n"
     ]
    }
   ],
   "source": [
    "NumList = []\n",
    "\n",
    "n= int(input(\"Please enter the Total Number of List Elements: \"))\n",
    "for i in range(1, n + 1):\n",
    "    value = int(input(\"Please enter the Value of %d Element : \" %i))\n",
    "    NumList.append(value)\n",
    "\n",
    "for i in range (Number):\n",
    "    for j in range(i + 1, n):\n",
    "        if(NumList[i] > NumList[j]):\n",
    "            temp = NumList[i]\n",
    "            NumList[i] = NumList[j]\n",
    "            NumList[j] = temp\n",
    "\n",
    "print(\"Element After Sorting List in Ascending Order is : \", NumList)"
   ]
  },
  {
   "cell_type": "code",
   "execution_count": 31,
   "metadata": {},
   "outputs": [
    {
     "name": "stdout",
     "output_type": "stream",
     "text": [
      "[-64, -26, -15, 1, 15, 23, 23, 76]\n"
     ]
    }
   ],
   "source": [
    "my_list = [-15, -26, 15, 1, 23, -64, 23, 76]\n",
    "new_list = []\n",
    "\n",
    "while my_list:\n",
    "    min = my_list[0]  \n",
    "    for x in my_list: \n",
    "        if x < min:\n",
    "            min = x\n",
    "    new_list.append(min)\n",
    "    my_list.remove(min)    \n",
    "\n",
    "print(new_list)"
   ]
  },
  {
   "cell_type": "markdown",
   "metadata": {},
   "source": [
    "## upper in file"
   ]
  },
  {
   "cell_type": "code",
   "execution_count": 28,
   "metadata": {},
   "outputs": [
    {
     "name": "stdout",
     "output_type": "stream",
     "text": [
      "HELLO MANAS!\n"
     ]
    }
   ],
   "source": [
    "f=open(\"data.txt\",\"r\")\n",
    "for i in f:\n",
    "    print(i.upper())\n",
    "\n"
   ]
  },
  {
   "cell_type": "code",
   "execution_count": 29,
   "metadata": {},
   "outputs": [
    {
     "name": "stdout",
     "output_type": "stream",
     "text": [
      "hello manas!\n"
     ]
    }
   ],
   "source": [
    "f=open(\"data.txt\",\"r\")\n",
    "for i in f:\n",
    "    print(i.lower())"
   ]
  },
  {
   "cell_type": "code",
   "execution_count": null,
   "metadata": {},
   "outputs": [],
   "source": []
  }
 ],
 "metadata": {
  "kernelspec": {
   "display_name": "Python 3",
   "language": "python",
   "name": "python3"
  },
  "language_info": {
   "codemirror_mode": {
    "name": "ipython",
    "version": 3
   },
   "file_extension": ".py",
   "mimetype": "text/x-python",
   "name": "python",
   "nbconvert_exporter": "python",
   "pygments_lexer": "ipython3",
   "version": "3.8.3"
  }
 },
 "nbformat": 4,
 "nbformat_minor": 4
}
