{
 "cells": [
  {
   "cell_type": "code",
   "execution_count": 23,
   "metadata": {},
   "outputs": [
    {
     "name": "stdout",
     "output_type": "stream",
     "text": [
      "              ename            desig   salary\n",
      "eno                                          \n",
      "101     Manas Ohara   Data Scientist    60000\n",
      "102   Kashmira Shah        Developer    90000\n",
      "103     Lana Rhodes            Model   100000\n",
      "104     lana rhodes              NaN   100000\n"
     ]
    }
   ],
   "source": [
    "import pandas\n",
    "df=pandas.read_csv('emp.csv',index_col='eno')\n",
    "print(df)"
   ]
  },
  {
   "cell_type": "markdown",
   "metadata": {},
   "source": [
    "## Duplication in csv"
   ]
  },
  {
   "cell_type": "code",
   "execution_count": 24,
   "metadata": {},
   "outputs": [
    {
     "name": "stdout",
     "output_type": "stream",
     "text": [
      "0    False\n",
      "1    False\n",
      "2    False\n",
      "3    False\n",
      "dtype: bool\n"
     ]
    }
   ],
   "source": [
    "import pandas as pd\n",
    "df=pd.read_csv('emp.csv')\n",
    "print(df.duplicated())"
   ]
  },
  {
   "cell_type": "markdown",
   "metadata": {},
   "source": [
    "## Reading csv file with csv module"
   ]
  },
  {
   "cell_type": "code",
   "execution_count": 12,
   "metadata": {},
   "outputs": [
    {
     "name": "stdout",
     "output_type": "stream",
     "text": [
      "['eno', ' ename', ' desig', ' salary']\n",
      "['101', ' Manas Ohara', ' Data Scientist', ' 60000']\n",
      "['102', ' Kashmira Shah', ' Developer', ' 90000']\n",
      "['103', ' Lana Rhodes', ' Model', ' 100000']\n",
      "['104', ' lana rhodes', '', '100000']\n"
     ]
    }
   ],
   "source": [
    "import csv\n",
    "with open('emp.csv','r') as file:\n",
    "    reader=csv.reader(file)\n",
    "    for row in reader:\n",
    "        print(row)"
   ]
  },
  {
   "cell_type": "markdown",
   "metadata": {},
   "source": [
    "## in pandas the null desig will show Nan"
   ]
  },
  {
   "cell_type": "code",
   "execution_count": 14,
   "metadata": {},
   "outputs": [
    {
     "name": "stdout",
     "output_type": "stream",
     "text": [
      "              ename            desig   salary\n",
      "eno                                          \n",
      "101     Manas Ohara   Data Scientist    60000\n",
      "102   Kashmira Shah        Developer    90000\n",
      "103     Lana Rhodes            Model   100000\n",
      "104     lana rhodes              NaN   100000\n"
     ]
    }
   ],
   "source": [
    "import pandas\n",
    "df=pandas.read_csv('emp.csv',index_col='eno')\n",
    "print(df)"
   ]
  },
  {
   "cell_type": "markdown",
   "metadata": {},
   "source": [
    "## with csv it will show ' '"
   ]
  },
  {
   "cell_type": "code",
   "execution_count": 15,
   "metadata": {},
   "outputs": [
    {
     "name": "stdout",
     "output_type": "stream",
     "text": [
      "['eno', ' ename', ' desig', ' salary']\n",
      "['101', ' Manas Ohara', ' Data Scientist', ' 60000']\n",
      "['102', ' Kashmira Shah', ' Developer', ' 90000']\n",
      "['103', ' Lana Rhodes', ' Model', ' 100000']\n",
      "['104', ' lana rhodes', '', '100000']\n"
     ]
    }
   ],
   "source": [
    "import csv\n",
    "with open('emp.csv','r') as file:\n",
    "    reader=csv.reader(file)\n",
    "    for row in reader:\n",
    "        print(row)"
   ]
  },
  {
   "cell_type": "code",
   "execution_count": 45,
   "metadata": {},
   "outputs": [
    {
     "name": "stdout",
     "output_type": "stream",
     "text": [
      "   eno           ename            desig   salary\n",
      "0  101     Manas Ohara   Data Scientist    60000\n",
      "1  102   Kashmira Shah        Developer    90000\n",
      "2  103     Lana Rhodes            Model   100000\n"
     ]
    }
   ],
   "source": [
    "import pandas as pd\n",
    "df=pd.read_csv('emp.csv')\n",
    "new_df=df.dropna()\n",
    "print(new_df.to_string())"
   ]
  },
  {
   "cell_type": "code",
   "execution_count": 46,
   "metadata": {},
   "outputs": [
    {
     "name": "stdout",
     "output_type": "stream",
     "text": [
      "         Name Class\n",
      "BSC     Manas    TY\n",
      "BCA  Kashmira    FY\n",
      "BDA    Chetan    SY\n"
     ]
    }
   ],
   "source": [
    "import pandas as pd\n",
    "stud ={\n",
    "    \"Name\":[\"Manas\",\"Kashmira\",\"Chetan\"],\n",
    "    \"Class\":[\"TY\",\"FY\",\"SY\"]\n",
    "}\n",
    "r=pd.DataFrame(stud,index=[\"BSC\",\"BCA\",\"BDA\"])\n",
    "print(r)"
   ]
  },
  {
   "cell_type": "markdown",
   "metadata": {},
   "source": [
    "## loc"
   ]
  },
  {
   "cell_type": "code",
   "execution_count": 20,
   "metadata": {},
   "outputs": [
    {
     "name": "stdout",
     "output_type": "stream",
     "text": [
      "Name     Manas\n",
      "Class       TY\n",
      "Name: 0, dtype: object\n"
     ]
    }
   ],
   "source": [
    "import pandas as pd\n",
    "stud ={\n",
    "    \"Name\":[\"Manas\",\"Kashmira\",\"Chetan\"],\n",
    "    \"Class\":[\"TY\",\"FY\",\"SY\"]\n",
    "}\n",
    "r=pd.DataFrame(stud)\n",
    "print(r.loc[0])"
   ]
  },
  {
   "cell_type": "code",
   "execution_count": 39,
   "metadata": {},
   "outputs": [
    {
     "name": "stdout",
     "output_type": "stream",
     "text": [
      "       Name Class\n",
      "0     Manas    TY\n",
      "1  Kashmira    FY\n",
      "2    Chetan    SY\n"
     ]
    }
   ],
   "source": [
    "import pandas as pd\n",
    "stud ={\n",
    "    \"Name\":[\"Manas\",\"Kashmira\",\"Chetan\"],\n",
    "    \"Class\":[\"TY\",\"FY\",\"SY\"]\n",
    "}\n",
    "r=pd.DataFrame(stud)\n",
    "print(r.loc[[0,1,2]])"
   ]
  },
  {
   "cell_type": "markdown",
   "metadata": {},
   "source": [
    "## Assignment\n",
    "### 1. Create mobproduct.csv file with pno, pname, brand, price. \n",
    "### a) display all the records\n",
    "### b) display only those records which have complete data\n",
    "### c) display status as false for duplicate record and true for other records.\n",
    "### d) display data with index as pno"
   ]
  },
  {
   "cell_type": "code",
   "execution_count": 40,
   "metadata": {},
   "outputs": [
    {
     "name": "stdout",
     "output_type": "stream",
     "text": [
      "        pname      brand    price\n",
      "pno                              \n",
      "101       R15     Yamaha   150000\n",
      "102     RE350         RE   200000\n",
      "103   Daytona    Triumph  1000000\n",
      "104      z900   Kawasaki   150000\n"
     ]
    }
   ],
   "source": [
    "import pandas\n",
    "df=pandas.read_csv('bikes.csv',index_col='pno')\n",
    "print(df)"
   ]
  },
  {
   "cell_type": "code",
   "execution_count": 43,
   "metadata": {},
   "outputs": [
    {
     "name": "stdout",
     "output_type": "stream",
     "text": [
      "   pno     pname      brand    price\n",
      "0  101       R15     Yamaha   150000\n",
      "1  102     RE350         RE   200000\n",
      "2  103   Daytona    Triumph  1000000\n",
      "3  104      z900   Kawasaki   150000\n"
     ]
    }
   ],
   "source": [
    "import pandas as pd\n",
    "df=pd.read_csv('bikes.csv')\n",
    "new_df=df.dropna()\n",
    "print(new_df.to_string())"
   ]
  },
  {
   "cell_type": "code",
   "execution_count": 44,
   "metadata": {},
   "outputs": [
    {
     "name": "stdout",
     "output_type": "stream",
     "text": [
      "0    False\n",
      "1    False\n",
      "2    False\n",
      "3    False\n",
      "dtype: bool\n"
     ]
    }
   ],
   "source": [
    "import pandas as pd\n",
    "df=pd.read_csv('bikes.csv')\n",
    "print(df.duplicated())"
   ]
  },
  {
   "cell_type": "code",
   "execution_count": null,
   "metadata": {},
   "outputs": [],
   "source": []
  }
 ],
 "metadata": {
  "kernelspec": {
   "display_name": "Python 3",
   "language": "python",
   "name": "python3"
  },
  "language_info": {
   "codemirror_mode": {
    "name": "ipython",
    "version": 3
   },
   "file_extension": ".py",
   "mimetype": "text/x-python",
   "name": "python",
   "nbconvert_exporter": "python",
   "pygments_lexer": "ipython3",
   "version": "3.8.3"
  }
 },
 "nbformat": 4,
 "nbformat_minor": 4
}
