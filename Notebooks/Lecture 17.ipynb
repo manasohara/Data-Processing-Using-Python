{
 "cells": [
  {
   "cell_type": "markdown",
   "metadata": {},
   "source": [
    "## this code will show how many times the character occured in given file?"
   ]
  },
  {
   "cell_type": "code",
   "execution_count": 1,
   "metadata": {},
   "outputs": [],
   "source": [
    "from collections import Counter\n",
    "with open(\"d1.txt\") as f:\n",
    "    p=Counter(f.read())\n",
    "    print(p)"
   ]
  },
  {
   "cell_type": "markdown",
   "metadata": {},
   "source": [
    "### while using split() it will show how many times that word occured!!"
   ]
  },
  {
   "cell_type": "code",
   "execution_count": 2,
   "metadata": {},
   "outputs": [
    {
     "name": "stdout",
     "output_type": "stream",
     "text": [
      "Counter({'hello': 3, 'pune': 2, 'mumbai': 2, 'world': 1})\n"
     ]
    }
   ],
   "source": [
    "from collections import Counter\n",
    "with open(\"d1.txt\") as f:\n",
    "    p=Counter(f.read().split())\n",
    "    print(p)"
   ]
  },
  {
   "cell_type": "code",
   "execution_count": 3,
   "metadata": {},
   "outputs": [
    {
     "name": "stdout",
     "output_type": "stream",
     "text": [
      "['hello', 'world']\n",
      "['pune']\n",
      "['mumbai']\n",
      "['hello', 'pune']\n",
      "['hello', 'mumbai']\n"
     ]
    }
   ],
   "source": [
    "with open(\"d1.txt\",\"r\") as file:\n",
    "    data=file.readlines()\n",
    "    for line in data:\n",
    "        word=line.split()\n",
    "        print(word)"
   ]
  },
  {
   "cell_type": "markdown",
   "metadata": {},
   "source": [
    "### printing only first 7 chars"
   ]
  },
  {
   "cell_type": "code",
   "execution_count": 4,
   "metadata": {},
   "outputs": [
    {
     "name": "stdout",
     "output_type": "stream",
     "text": [
      "hello w\n"
     ]
    }
   ],
   "source": [
    "with open(\"d1.txt\",\"r\") as file:\n",
    "    print(file.read(7))"
   ]
  },
  {
   "cell_type": "markdown",
   "metadata": {},
   "source": [
    "### Now flask codes "
   ]
  },
  {
   "cell_type": "code",
   "execution_count": null,
   "metadata": {},
   "outputs": [
    {
     "name": "stdout",
     "output_type": "stream",
     "text": [
      " * Serving Flask app \"__main__\" (lazy loading)\n",
      " * Environment: production\n",
      "   WARNING: This is a development server. Do not use it in a production deployment.\n",
      "   Use a production WSGI server instead.\n",
      " * Debug mode: off\n"
     ]
    },
    {
     "name": "stderr",
     "output_type": "stream",
     "text": [
      " * Running on http://127.0.0.1:5000/ (Press CTRL+C to quit)\n",
      "127.0.0.1 - - [30/Mar/2021 16:51:33] \"\u001b[33mGET /manas HTTP/1.1\u001b[0m\" 404 -\n",
      "127.0.0.1 - - [30/Mar/2021 16:51:38] \"\u001b[33mGET /hello HTTP/1.1\u001b[0m\" 404 -\n",
      "127.0.0.1 - - [30/Mar/2021 16:52:05] \"\u001b[33mGET /hello HTTP/1.1\u001b[0m\" 404 -\n",
      "127.0.0.1 - - [30/Mar/2021 16:52:11] \"\u001b[33mGET /manas HTTP/1.1\u001b[0m\" 404 -\n"
     ]
    }
   ],
   "source": [
    "from flask import Flask\n",
    "app=Flask(__name__)\n",
    "@app.route('/mit')\n",
    "def success():\n",
    "    return \"<body bgcolor=pink><h2>Hello World</h2></body>\"\n",
    "if __name__ == '__main__':\n",
    "    app.run()"
   ]
  },
  {
   "cell_type": "markdown",
   "metadata": {},
   "source": [
    "### after the code it will give some url clck on url and in the url put parameter which\n",
    "### is in @app.route('/----') e.g \\/mit\n",
    "### name refers to current module\n",
    "### there could be n functions but name is only one"
   ]
  },
  {
   "cell_type": "code",
   "execution_count": 10,
   "metadata": {},
   "outputs": [
    {
     "name": "stdout",
     "output_type": "stream",
     "text": [
      " * Serving Flask app \"__main__\" (lazy loading)\n",
      " * Environment: production\n",
      "   WARNING: This is a development server. Do not use it in a production deployment.\n",
      "   Use a production WSGI server instead.\n",
      " * Debug mode: off\n"
     ]
    },
    {
     "name": "stderr",
     "output_type": "stream",
     "text": [
      " * Running on http://127.0.0.1:5000/ (Press CTRL+C to quit)\n",
      "127.0.0.1 - - [30/Mar/2021 17:20:29] \"\u001b[33mGET / HTTP/1.1\u001b[0m\" 404 -\n",
      "127.0.0.1 - - [30/Mar/2021 17:20:41] \"\u001b[33mGET /hello/manas HTTP/1.1\u001b[0m\" 404 -\n",
      "127.0.0.1 - - [30/Mar/2021 17:20:45] \"\u001b[33mGET /hello/manas HTTP/1.1\u001b[0m\" 404 -\n",
      "127.0.0.1 - - [30/Mar/2021 17:21:03] \"\u001b[33mGET / HTTP/1.1\u001b[0m\" 404 -\n",
      "127.0.0.1 - - [30/Mar/2021 17:21:08] \"\u001b[33mGET /hello/manas HTTP/1.1\u001b[0m\" 404 -\n",
      "127.0.0.1 - - [30/Mar/2021 17:21:46] \"\u001b[33mGET / HTTP/1.1\u001b[0m\" 404 -\n",
      "127.0.0.1 - - [30/Mar/2021 17:21:51] \"\u001b[37mGET /manas HTTP/1.1\u001b[0m\" 200 -\n"
     ]
    }
   ],
   "source": [
    "##eg2\n",
    "from flask import Flask\n",
    "app=Flask(__name__)\n",
    "@app.route('/manas')\n",
    "def home():\n",
    "    return \"<h2><font color=red>Hello World</h2></font>\"\n",
    "if __name__=='__main__':\n",
    "    app.run()"
   ]
  },
  {
   "cell_type": "code",
   "execution_count": null,
   "metadata": {},
   "outputs": [],
   "source": [
    "from flask import Flask\n",
    "app=Flask(__name__)\n",
    "@app.route('/hello/<name>')\n",
    "def hello_name(name):\n",
    "    return \"hello %s!\" %name\n",
    "if __name__ == '__main__':\n",
    "    app.run(debug=False)"
   ]
  },
  {
   "cell_type": "code",
   "execution_count": null,
   "metadata": {},
   "outputs": [],
   "source": []
  }
 ],
 "metadata": {
  "kernelspec": {
   "display_name": "Python 3",
   "language": "python",
   "name": "python3"
  },
  "language_info": {
   "codemirror_mode": {
    "name": "ipython",
    "version": 3
   },
   "file_extension": ".py",
   "mimetype": "text/x-python",
   "name": "python",
   "nbconvert_exporter": "python",
   "pygments_lexer": "ipython3",
   "version": "3.8.3"
  }
 },
 "nbformat": 4,
 "nbformat_minor": 4
}
