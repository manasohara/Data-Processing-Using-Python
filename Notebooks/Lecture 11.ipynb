{
 "cells": [
  {
   "cell_type": "code",
   "execution_count": 3,
   "metadata": {},
   "outputs": [
    {
     "name": "stdout",
     "output_type": "stream",
     "text": [
      "<mysql.connector.connection_cext.CMySQLConnection object at 0x00000140380A9E80>\n"
     ]
    }
   ],
   "source": [
    "import mysql.connector\n",
    "mydb=mysql.connector.connect(\n",
    "    host=\"localhost\",\n",
    "    user=\"root\",\n",
    "    password=\"\")\n",
    "print(mydb)"
   ]
  },
  {
   "cell_type": "code",
   "execution_count": 4,
   "metadata": {},
   "outputs": [
    {
     "name": "stdout",
     "output_type": "stream",
     "text": [
      "<mysql.connector.connection_cext.CMySQLConnection object at 0x00000140380E3E80>\n"
     ]
    }
   ],
   "source": [
    "import mysql.connector\n",
    "mydb=mysql.connector.connect(\n",
    "    host=\"localhost\",\n",
    "    user=\"root\",\n",
    "    password=\"\")\n",
    "print(mydb)\n",
    "mycursor=mydb.cursor()\n",
    "mycursor.execute(\"CREATE DATABASE vsk\")"
   ]
  },
  {
   "cell_type": "markdown",
   "metadata": {},
   "source": [
    "## to see list all databases"
   ]
  },
  {
   "cell_type": "code",
   "execution_count": 5,
   "metadata": {},
   "outputs": [
    {
     "name": "stdout",
     "output_type": "stream",
     "text": [
      "<mysql.connector.connection_cext.CMySQLConnection object at 0x0000014037E52220>\n",
      "('information_schema',)\n",
      "('bms',)\n",
      "('emp',)\n",
      "('mysql',)\n",
      "('performance_schema',)\n",
      "('sys',)\n",
      "('vsk',)\n"
     ]
    }
   ],
   "source": [
    "import mysql.connector\n",
    "mydb=mysql.connector.connect(\n",
    "    host=\"localhost\",\n",
    "    user=\"root\",\n",
    "    password=\"\")\n",
    "print(mydb)\n",
    "mycursor=mydb.cursor()\n",
    "mycursor.execute(\"SHOW DATABASES\")\n",
    "for x in mycursor:\n",
    "    print(x)"
   ]
  },
  {
   "cell_type": "markdown",
   "metadata": {},
   "source": [
    "## creating table"
   ]
  },
  {
   "cell_type": "code",
   "execution_count": 6,
   "metadata": {},
   "outputs": [
    {
     "name": "stdout",
     "output_type": "stream",
     "text": [
      "<mysql.connector.connection_cext.CMySQLConnection object at 0x00000140380A9730>\n"
     ]
    }
   ],
   "source": [
    "import mysql.connector\n",
    "mydb=mysql.connector.connect(\n",
    "    host=\"localhost\",\n",
    "    user=\"root\",\n",
    "    password=\"\",\n",
    "    database=\"vsk\"\n",
    ")\n",
    "print(mydb)\n",
    "mycursor=mydb.cursor()\n",
    "mycursor.execute(\"CREATE TABLE customers(cname varchar(20),city varchar(20))\")"
   ]
  },
  {
   "cell_type": "code",
   "execution_count": 7,
   "metadata": {},
   "outputs": [
    {
     "name": "stdout",
     "output_type": "stream",
     "text": [
      "<mysql.connector.connection_cext.CMySQLConnection object at 0x00000140380A9DC0>\n",
      "('bank',)\n",
      "('login',)\n",
      "('signup',)\n",
      "('signup2',)\n",
      "('signup3',)\n"
     ]
    }
   ],
   "source": [
    "import mysql.connector\n",
    "mydb=mysql.connector.connect(\n",
    "    host=\"localhost\",\n",
    "    user=\"root\",\n",
    "    password=\"\",\n",
    "    database=\"bms\"\n",
    ")\n",
    "print(mydb)\n",
    "mycursor=mydb.cursor()\n",
    "mycursor.execute(\"show tables\")\n",
    "for x in mycursor:\n",
    "    print(x)"
   ]
  },
  {
   "cell_type": "markdown",
   "metadata": {},
   "source": [
    "## alter table to add primary key"
   ]
  },
  {
   "cell_type": "code",
   "execution_count": 8,
   "metadata": {},
   "outputs": [],
   "source": [
    "import mysql.connector\n",
    "mydb=mysql.connector.connect(\n",
    "    host=\"localhost\",\n",
    "    user=\"root\",\n",
    "    password=\"\",\n",
    "    database=\"vsk\"\n",
    ")\n",
    "mycursor=mydb.cursor()\n",
    "mycursor.execute(\"ALTER TABLE customers ADD COLUMN cid int PRIMARY KEY\")"
   ]
  },
  {
   "cell_type": "code",
   "execution_count": 14,
   "metadata": {},
   "outputs": [],
   "source": [
    "import mysql.connector\n",
    "mydb=mysql.connector.connect(\n",
    "    host=\"localhost\",\n",
    "    user=\"root\",\n",
    "    password=\"\",\n",
    "    database=\"vsk\"\n",
    ")\n",
    "mycursor=mydb.cursor()\n",
    "sql=\"INSERT INTO customers(cname,city,cid) VALUES('Sunny','SF',3)\"\n",
    "mycursor.execute(sql)\n",
    "mydb.commit() ##once committed can not rollback"
   ]
  },
  {
   "cell_type": "code",
   "execution_count": 15,
   "metadata": {},
   "outputs": [],
   "source": [
    "import mysql.connector\n",
    "mydb=mysql.connector.connect(\n",
    "    host=\"localhost\",\n",
    "    user=\"root\",\n",
    "    password=\"\",\n",
    "    database=\"vsk\"\n",
    ")\n",
    "mycursor=mydb.cursor()\n",
    "sql=\"INSERT INTO customers(cname,city,cid) VALUES('Sherlyn Chopra','Mumbai',4)\"\n",
    "mycursor.execute(sql)\n",
    "mydb.commit() ##once committed can not rollback"
   ]
  },
  {
   "cell_type": "code",
   "execution_count": 16,
   "metadata": {},
   "outputs": [],
   "source": [
    "import mysql.connector\n",
    "mydb=mysql.connector.connect(\n",
    "    host=\"localhost\",\n",
    "    user=\"root\",\n",
    "    password=\"\",\n",
    "    database=\"vsk\"\n",
    ")\n",
    "mycursor=mydb.cursor()\n",
    "sql=\"INSERT INTO customers(cname,city,cid) VALUES('Anveshi Jain','Delhi',5)\"\n",
    "mycursor.execute(sql)\n",
    "mydb.commit() ##once committed can not rollback"
   ]
  },
  {
   "cell_type": "code",
   "execution_count": 20,
   "metadata": {},
   "outputs": [
    {
     "name": "stdout",
     "output_type": "stream",
     "text": [
      "<mysql.connector.connection_cext.CMySQLConnection object at 0x00000140380E3520>\n",
      "('Lana', 'LA', 1)\n"
     ]
    }
   ],
   "source": [
    "import mysql.connector\n",
    "mydb=mysql.connector.connect(\n",
    "    host=\"localhost\",\n",
    "    user=\"root\",\n",
    "    password=\"\",\n",
    "    database=\"vsk\"\n",
    ")\n",
    "print(mydb)\n",
    "mycursor=mydb.cursor()\n",
    "mycursor.execute(\"select * from customers\")\n",
    "res=mycursor.fetchone()\n",
    "print(res)"
   ]
  },
  {
   "cell_type": "code",
   "execution_count": 23,
   "metadata": {},
   "outputs": [
    {
     "name": "stdout",
     "output_type": "stream",
     "text": [
      "<mysql.connector.connection_cext.CMySQLConnection object at 0x00000140380A9790>\n",
      "('Lana', 'LA', 1)\n",
      "('Mia', 'SF', 2)\n",
      "('Sunny', 'SF', 3)\n",
      "('Riley', 'Mumbai', 4)\n",
      "('Kendra', 'Delhi', 5)\n"
     ]
    }
   ],
   "source": [
    "import mysql.connector\n",
    "mydb=mysql.connector.connect(\n",
    "    host=\"localhost\",\n",
    "    user=\"root\",\n",
    "    password=\"\",\n",
    "    database=\"vsk\"\n",
    ")\n",
    "print(mydb)\n",
    "mycursor=mydb.cursor()\n",
    "mycursor.execute(\"select * from customers\")\n",
    "res=mycursor.fetchall()\n",
    "for x in res:\n",
    "    print(x)"
   ]
  },
  {
   "cell_type": "code",
   "execution_count": null,
   "metadata": {},
   "outputs": [],
   "source": []
  }
 ],
 "metadata": {
  "kernelspec": {
   "display_name": "Python 3",
   "language": "python",
   "name": "python3"
  },
  "language_info": {
   "codemirror_mode": {
    "name": "ipython",
    "version": 3
   },
   "file_extension": ".py",
   "mimetype": "text/x-python",
   "name": "python",
   "nbconvert_exporter": "python",
   "pygments_lexer": "ipython3",
   "version": "3.8.3"
  }
 },
 "nbformat": 4,
 "nbformat_minor": 4
}
