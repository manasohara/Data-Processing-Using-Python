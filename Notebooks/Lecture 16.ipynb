{
 "cells": [
  {
   "cell_type": "raw",
   "metadata": {},
   "source": [
    "Find the highest price of 22k gold.\n",
    "\n",
    "Find the lowest price of 24k gold\n",
    "\n",
    "Find the mean price of silver.\n",
    "\n",
    "Find total number of records."
   ]
  },
  {
   "cell_type": "code",
   "execution_count": 14,
   "metadata": {},
   "outputs": [
    {
     "name": "stdout",
     "output_type": "stream",
     "text": [
      "Max in G22:  44280\n"
     ]
    }
   ],
   "source": [
    "import pandas as pd\n",
    "df=pd.read_csv('goldsilver.csv')\n",
    "x=df[\"Gold22k\"].max()\n",
    "print(\"Max in G22: \",x)"
   ]
  },
  {
   "cell_type": "code",
   "execution_count": 11,
   "metadata": {},
   "outputs": [
    {
     "name": "stdout",
     "output_type": "stream",
     "text": [
      "Min in G24 44000\n"
     ]
    }
   ],
   "source": [
    "import pandas as pd\n",
    "df=pd.read_csv('goldsilver.csv')\n",
    "y=df[\"Gold24k\"].min()\n",
    "print(\"Min in G24\",y)"
   ]
  },
  {
   "cell_type": "code",
   "execution_count": 12,
   "metadata": {},
   "outputs": [
    {
     "name": "stdout",
     "output_type": "stream",
     "text": [
      "Silver mean 466.3\n"
     ]
    }
   ],
   "source": [
    "import pandas as pd\n",
    "df=pd.read_csv('goldsilver.csv')\n",
    "x=df[\"silver\"].mean()\n",
    "print(\"Silver mean\",x)"
   ]
  },
  {
   "cell_type": "code",
   "execution_count": 13,
   "metadata": {},
   "outputs": [
    {
     "name": "stdout",
     "output_type": "stream",
     "text": [
      "Rec. count : 10\n"
     ]
    }
   ],
   "source": [
    "import pandas as pd\n",
    "df=pd.read_csv('goldsilver.csv')\n",
    "x=df[\"Gold22k\"].count()\n",
    "print(\"Rec. count :\",x)"
   ]
  },
  {
   "cell_type": "raw",
   "metadata": {},
   "source": [
    "Display all rows which have complete data(skip rows with blank values)\n",
    "\n",
    "Display all the rows, replace missing values by mean."
   ]
  },
  {
   "cell_type": "code",
   "execution_count": 15,
   "metadata": {},
   "outputs": [
    {
     "name": "stdout",
     "output_type": "stream",
     "text": [
      "            Date  Gold22k  Gold24k  silver\n",
      "0  23 March 2021    43000  44000.0     453\n",
      "1  22 March 2021    43800  44800.0     467\n",
      "2  21 March 2021    43920  44920.0     479\n",
      "3  20 March 2021    43930  44930.0     450\n",
      "5  18 March 2021    44280  45280.0     486\n",
      "6  17 March 2021    43960  44960.0     489\n",
      "8  15 March 2021    43840  44840.0     468\n",
      "9  14 March 2021    43870  44870.0     451\n"
     ]
    }
   ],
   "source": [
    "import pandas as pd\n",
    "f=pd.read_csv('metalrate.csv')\n",
    "f1=f.dropna()\n",
    "print(f1)"
   ]
  },
  {
   "cell_type": "code",
   "execution_count": 18,
   "metadata": {},
   "outputs": [
    {
     "name": "stdout",
     "output_type": "stream",
     "text": [
      "44825.0\n",
      "            Date  Gold22k  Gold24k  silver\n",
      "0  23 March 2021    43000  44000.0     453\n",
      "1  22 March 2021    43800  44800.0     467\n",
      "2  21 March 2021    43920  44920.0     479\n",
      "3  20 March 2021    43930  44930.0     450\n",
      "4  19 March 2021    44070  44825.0     460\n",
      "5  18 March 2021    44280  45280.0     486\n",
      "6  17 March 2021    43960  44960.0     489\n",
      "7  16 March 2021    43840  44825.0     460\n",
      "8  15 March 2021    43840  44840.0     468\n",
      "9  14 March 2021    43870  44870.0     451\n"
     ]
    }
   ],
   "source": [
    "import pandas as pd\n",
    "f=pd.read_csv('metalrate.csv')\n",
    "x=f[\"Gold24k\"].mean()\n",
    "print(x)\n",
    "f[\"Gold24k\"].fillna(x,inplace=True)\n",
    "print(f)"
   ]
  },
  {
   "cell_type": "code",
   "execution_count": 21,
   "metadata": {},
   "outputs": [
    {
     "name": "stdout",
     "output_type": "stream",
     "text": [
      "['Alexa', 'play', 'party', 'music']\n"
     ]
    }
   ],
   "source": [
    "import nltk\n",
    "#nltk.download('punkt')\n",
    "wordorder = \"Alexa play party music\"\n",
    "nltk_tokens = nltk.word_tokenize(wordorder)\n",
    "print(nltk_tokens)"
   ]
  },
  {
   "cell_type": "code",
   "execution_count": 23,
   "metadata": {},
   "outputs": [
    {
     "name": "stdout",
     "output_type": "stream",
     "text": [
      "['Sun rises in the east.', 'Sun sets in the west.']\n"
     ]
    }
   ],
   "source": [
    "import nltk\n",
    "sentence_data = \"Sun rises in the east. Sun sets in the west.\"\n",
    "nltk_tokens = nltk.sent_tokenize(sentence_data)\n",
    "print (nltk_tokens)"
   ]
  },
  {
   "cell_type": "markdown",
   "metadata": {},
   "source": [
    "## Porter Steming Algorithm for stemming"
   ]
  },
  {
   "cell_type": "code",
   "execution_count": 25,
   "metadata": {},
   "outputs": [
    {
     "name": "stdout",
     "output_type": "stream",
     "text": [
      "Actual: I  Stem: I\n",
      "Actual: started  Stem: start\n",
      "Actual: learning  Stem: learn\n",
      "Actual: Python  Stem: python\n",
      "Actual: on  Stem: on\n",
      "Actual: my  Stem: my\n",
      "Actual: own  Stem: own\n"
     ]
    }
   ],
   "source": [
    "import nltk\n",
    "from nltk.stem.porter import PorterStemmer\n",
    "porter_stemmer = PorterStemmer()\n",
    "word_data = \"I started learning Python on my own\"\n",
    "# First Word tokenization\n",
    "nltk_tokens = nltk.word_tokenize(word_data)\n",
    "#Next find the roots of the word\n",
    "for w in nltk_tokens:\n",
    "       print (\"Actual: %s  Stem: %s\"  % (w,porter_stemmer.stem(w)))"
   ]
  },
  {
   "cell_type": "code",
   "execution_count": null,
   "metadata": {},
   "outputs": [],
   "source": []
  }
 ],
 "metadata": {
  "kernelspec": {
   "display_name": "Python 3",
   "language": "python",
   "name": "python3"
  },
  "language_info": {
   "codemirror_mode": {
    "name": "ipython",
    "version": 3
   },
   "file_extension": ".py",
   "mimetype": "text/x-python",
   "name": "python",
   "nbconvert_exporter": "python",
   "pygments_lexer": "ipython3",
   "version": "3.8.3"
  }
 },
 "nbformat": 4,
 "nbformat_minor": 4
}
