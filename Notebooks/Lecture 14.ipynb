{
 "cells": [
  {
   "cell_type": "code",
   "execution_count": 9,
   "metadata": {},
   "outputs": [
    {
     "name": "stdout",
     "output_type": "stream",
     "text": [
      "   eno   ename       desig  salary\n",
      "0  101    Neha     manager   35000\n",
      "1  102   Varun       clerk   19000\n",
      "2  103  Pankaj     manager   60000\n",
      "3  104   Mohan  accountant   20000\n",
      "4  105   Rekha       clerk   15000\n",
      "5  106   Seema          hr   40000\n",
      "6  107   Teena         CEO   80000\n",
      "7  108   Anita     manager   45000\n"
     ]
    }
   ],
   "source": [
    "## how to interact with excel sheets in python\n",
    "import pandas as pd\n",
    "data=pd.read_excel(\"emp.xlsx\")\n",
    "print(data)"
   ]
  },
  {
   "cell_type": "code",
   "execution_count": 10,
   "metadata": {},
   "outputs": [
    {
     "name": "stdout",
     "output_type": "stream",
     "text": [
      "eno         102\n",
      "ename     Varun\n",
      "desig     clerk\n",
      "salary    19000\n",
      "Name: 1, dtype: object\n"
     ]
    }
   ],
   "source": [
    "import pandas as pd\n",
    "data=pd.read_excel(\"emp.xlsx\")\n",
    "print(data.loc[1])"
   ]
  },
  {
   "cell_type": "code",
   "execution_count": 11,
   "metadata": {},
   "outputs": [
    {
     "name": "stdout",
     "output_type": "stream",
     "text": [
      "   eno   ename       desig  salary\n",
      "1  102   Varun       clerk   19000\n",
      "2  103  Pankaj     manager   60000\n",
      "3  104   Mohan  accountant   20000\n"
     ]
    }
   ],
   "source": [
    "import pandas as pd\n",
    "data=pd.read_excel(\"emp.xlsx\")\n",
    "print(data.loc[1:3])"
   ]
  },
  {
   "cell_type": "code",
   "execution_count": 12,
   "metadata": {},
   "outputs": [
    {
     "name": "stdout",
     "output_type": "stream",
     "text": [
      "    ename  salary\n",
      "1   Varun   19000\n",
      "2  Pankaj   60000\n",
      "3   Mohan   20000\n"
     ]
    }
   ],
   "source": [
    "import pandas as pd\n",
    "data=pd.read_excel(\"emp.xlsx\")\n",
    "print(data.loc[[1,2,3],['ename','salary']])"
   ]
  },
  {
   "cell_type": "code",
   "execution_count": 16,
   "metadata": {},
   "outputs": [
    {
     "name": "stdout",
     "output_type": "stream",
     "text": [
      "   eno   ename       desig  salary\n",
      "0  101    Neha     manager   35000\n",
      "1  102   Varun       clerk   19000\n",
      "2  103  Pankaj     manager   60000\n",
      "3  104   Mohan  accountant   20000\n",
      "4  105   Rekha       clerk   15000\n",
      "5  106   Seema          hr   40000\n",
      "6  107   Teena         CEO   80000\n",
      "7  108   Anita     manager   45000\n",
      "   eno   ename  leaves\n",
      "0  101    Neha       2\n",
      "1  102   Varun       4\n",
      "2  103  Pankaj       3\n",
      "3  104   Mohan       5\n",
      "4  105   Rekha       1\n",
      "5  106   Seema       2\n",
      "6  107   Teena       4\n",
      "7  108   Anita       5\n",
      "----------result sheet-----------------\n",
      "   eno   ename       desig  salary\n",
      "0  101    Neha     manager   35000\n",
      "1  102   Varun       clerk   19000\n",
      "2  103  Pankaj     manager   60000\n",
      "3  104   Mohan  accountant   20000\n",
      "4  105   Rekha       clerk   15000\n",
      "   eno   ename  leaves\n",
      "0  101    Neha       2\n",
      "1  102   Varun       4\n",
      "2  103  Pankaj       3\n",
      "3  104   Mohan       5\n",
      "4  105   Rekha       1\n"
     ]
    }
   ],
   "source": [
    "import pandas as pd\n",
    "with pd.ExcelFile(\"emp.xlsx\")as xls:\n",
    "    data1=pd.read_excel(xls,\"Sheet1\")\n",
    "    print(data1)\n",
    "    data2=pd.read_excel(xls,\"Sheet2\")\n",
    "    print(data2)\n",
    "print(\"----------result sheet-----------------\")\n",
    "print(data1[0:5])\n",
    "print(data2[0:5])"
   ]
  },
  {
   "cell_type": "markdown",
   "metadata": {},
   "source": [
    "## date and time"
   ]
  },
  {
   "cell_type": "code",
   "execution_count": 18,
   "metadata": {},
   "outputs": [
    {
     "name": "stdout",
     "output_type": "stream",
     "text": [
      "2021-03-22 14:57:08.421081\n"
     ]
    }
   ],
   "source": [
    "import datetime\n",
    "dt=datetime.datetime.now()\n",
    "print(dt)"
   ]
  },
  {
   "cell_type": "code",
   "execution_count": 20,
   "metadata": {},
   "outputs": [
    {
     "name": "stdout",
     "output_type": "stream",
     "text": [
      "2021-03-22\n"
     ]
    }
   ],
   "source": [
    "## only date\n",
    "import datetime\n",
    "dt=datetime.date.today()\n",
    "print(dt)"
   ]
  },
  {
   "cell_type": "code",
   "execution_count": 21,
   "metadata": {},
   "outputs": [
    {
     "name": "stdout",
     "output_type": "stream",
     "text": [
      "2002-03-23\n"
     ]
    }
   ],
   "source": [
    "## only date according to us\n",
    "import datetime\n",
    "dt=datetime.date(2002,3,23)\n",
    "print(dt)"
   ]
  },
  {
   "cell_type": "code",
   "execution_count": 25,
   "metadata": {},
   "outputs": [
    {
     "name": "stdout",
     "output_type": "stream",
     "text": [
      "Year: 2021\n",
      "Month: 3\n",
      "Date: 22\n"
     ]
    }
   ],
   "source": [
    "## dd,mm,yy in one\n",
    "from datetime import date\n",
    "today=date.today()\n",
    "print(\"Year:\",today.year)\n",
    "print(\"Month:\",today.month)\n",
    "print(\"Date:\",today.day)"
   ]
  },
  {
   "cell_type": "code",
   "execution_count": null,
   "metadata": {},
   "outputs": [],
   "source": []
  }
 ],
 "metadata": {
  "kernelspec": {
   "display_name": "Python 3",
   "language": "python",
   "name": "python3"
  },
  "language_info": {
   "codemirror_mode": {
    "name": "ipython",
    "version": 3
   },
   "file_extension": ".py",
   "mimetype": "text/x-python",
   "name": "python",
   "nbconvert_exporter": "python",
   "pygments_lexer": "ipython3",
   "version": "3.8.3"
  }
 },
 "nbformat": 4,
 "nbformat_minor": 4
}
