{
 "cells": [
  {
   "cell_type": "code",
   "execution_count": 1,
   "metadata": {},
   "outputs": [
    {
     "name": "stdout",
     "output_type": "stream",
     "text": [
      "{'a': ['b', 'c'], 'b': ['a', 'd'], 'c': ['a', 'd'], 'd': ['e'], 'e': ['d']}\n"
     ]
    }
   ],
   "source": [
    "graph = { \"a\" : [\"b\",\"c\"],\n",
    "          \"b\" : [\"a\", \"d\"],\n",
    "          \"c\" : [\"a\", \"d\"],\n",
    "          \"d\" : [\"e\"],\n",
    "          \"e\" : [\"d\"]\n",
    "         }    \n",
    "print(graph)"
   ]
  },
  {
   "cell_type": "code",
   "execution_count": 2,
   "metadata": {},
   "outputs": [
    {
     "name": "stdout",
     "output_type": "stream",
     "text": [
      "{5: [3, 7], 3: [2, 4], 2: [], 7: [8], 4: [8]}\n"
     ]
    }
   ],
   "source": [
    "g1={\n",
    "    5:[3,7],\n",
    "    3:[2,4],\n",
    "    2:[],\n",
    "    7:[8],\n",
    "    4:[8]\n",
    "}\n",
    "print(g1)"
   ]
  },
  {
   "cell_type": "code",
   "execution_count": 3,
   "metadata": {},
   "outputs": [
    {
     "name": "stdout",
     "output_type": "stream",
     "text": [
      "{'A': ['B'], 'B': ['A', 'C', 'D'], 'C': ['B', 'D', 'E'], 'D': ['B', 'C', 'E'], 'E': ['C', 'D']}\n"
     ]
    }
   ],
   "source": [
    "g2={\n",
    "    'A':['B'],\n",
    "    'B':['A','C','D'],\n",
    "    'C':['B','D','E'],\n",
    "    'D':['B','C','E'],\n",
    "    'E':['C','D']\n",
    "}\n",
    "print(g2)"
   ]
  },
  {
   "cell_type": "code",
   "execution_count": 4,
   "metadata": {},
   "outputs": [
    {
     "name": "stdout",
     "output_type": "stream",
     "text": [
      "{'0': ['1', '4'], '1': ['2'], '2': ['0'], '3': ['0'], '4': ['3']}\n"
     ]
    }
   ],
   "source": [
    "g3={\n",
    "    '0':['1','4'],\n",
    "    '1':['2'],\n",
    "    '2':['0'],\n",
    "    '3':['0'],\n",
    "    '4':['3']\n",
    "}\n",
    "print(g3)"
   ]
  },
  {
   "cell_type": "code",
   "execution_count": null,
   "metadata": {},
   "outputs": [],
   "source": []
  }
 ],
 "metadata": {
  "kernelspec": {
   "display_name": "Python 3",
   "language": "python",
   "name": "python3"
  },
  "language_info": {
   "codemirror_mode": {
    "name": "ipython",
    "version": 3
   },
   "file_extension": ".py",
   "mimetype": "text/x-python",
   "name": "python",
   "nbconvert_exporter": "python",
   "pygments_lexer": "ipython3",
   "version": "3.8.3"
  }
 },
 "nbformat": 4,
 "nbformat_minor": 4
}
